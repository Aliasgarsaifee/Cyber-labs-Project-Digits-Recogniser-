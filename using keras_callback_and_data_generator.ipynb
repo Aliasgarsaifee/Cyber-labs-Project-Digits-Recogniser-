{
  "nbformat": 4,
  "nbformat_minor": 0,
  "metadata": {
    "colab": {
      "name": "keras callback and data generator.ipynb",
      "version": "0.3.2",
      "provenance": [],
      "collapsed_sections": [],
      "include_colab_link": true
    },
    "kernelspec": {
      "name": "python3",
      "display_name": "Python 3"
    }
  },
  "cells": [
    {
      "cell_type": "markdown",
      "metadata": {
        "id": "view-in-github",
        "colab_type": "text"
      },
      "source": [
        "<a href=\"https://colab.research.google.com/github/Aliasgarsaifee/MNIST-Project-Digits-Recogniser-/blob/master/using%20keras_callback_and_data_generator.ipynb\" target=\"_parent\"><img src=\"https://colab.research.google.com/assets/colab-badge.svg\" alt=\"Open In Colab\"/></a>"
      ]
    },
    {
      "metadata": {
        "id": "_2ckHWEHSss0",
        "colab_type": "code",
        "colab": {}
      },
      "cell_type": "code",
      "source": [
        "import keras\n",
        "from keras.layers import *\n",
        "from keras.models import Model,Sequential,load_model\n",
        "from keras.regularizers import *\n",
        "from keras.activations import *\n",
        "import numpy as np\n",
        "import pandas as pd\n",
        "from numpy import array\n",
        "import matplotlib.pyplot as plt"
      ],
      "execution_count": 0,
      "outputs": []
    },
    {
      "metadata": {
        "id": "NbJYpaV8S5I1",
        "colab_type": "code",
        "outputId": "25e69538-0082-4a24-8993-5770dc8161ea",
        "colab": {
          "base_uri": "https://localhost:8080/",
          "height": 68
        }
      },
      "cell_type": "code",
      "source": [
        "ls sample_data"
      ],
      "execution_count": 30,
      "outputs": [
        {
          "output_type": "stream",
          "text": [
            "\u001b[0m\u001b[01;32manscombe.json\u001b[0m*                mnist_test.csv\n",
            "california_housing_test.csv   mnist_train_small.csv\n",
            "california_housing_train.csv  \u001b[01;32mREADME.md\u001b[0m*\n"
          ],
          "name": "stdout"
        }
      ]
    },
    {
      "metadata": {
        "id": "9IQjbBfoPNW7",
        "colab_type": "code",
        "colab": {}
      },
      "cell_type": "code",
      "source": [
        "train=pd.read_csv('sample_data/mnist_train_small.csv',header=None)\n",
        "test=pd.read_csv('sample_data/mnist_test.csv',header=None)"
      ],
      "execution_count": 0,
      "outputs": []
    },
    {
      "metadata": {
        "id": "0H1GOTKwPNc1",
        "colab_type": "code",
        "outputId": "f80ee9db-8479-43df-d36d-e0dcd58442f3",
        "colab": {
          "base_uri": "https://localhost:8080/",
          "height": 233
        }
      },
      "cell_type": "code",
      "source": [
        "train.head()"
      ],
      "execution_count": 32,
      "outputs": [
        {
          "output_type": "execute_result",
          "data": {
            "text/html": [
              "<div>\n",
              "<style scoped>\n",
              "    .dataframe tbody tr th:only-of-type {\n",
              "        vertical-align: middle;\n",
              "    }\n",
              "\n",
              "    .dataframe tbody tr th {\n",
              "        vertical-align: top;\n",
              "    }\n",
              "\n",
              "    .dataframe thead th {\n",
              "        text-align: right;\n",
              "    }\n",
              "</style>\n",
              "<table border=\"1\" class=\"dataframe\">\n",
              "  <thead>\n",
              "    <tr style=\"text-align: right;\">\n",
              "      <th></th>\n",
              "      <th>0</th>\n",
              "      <th>1</th>\n",
              "      <th>2</th>\n",
              "      <th>3</th>\n",
              "      <th>4</th>\n",
              "      <th>5</th>\n",
              "      <th>6</th>\n",
              "      <th>7</th>\n",
              "      <th>8</th>\n",
              "      <th>9</th>\n",
              "      <th>...</th>\n",
              "      <th>775</th>\n",
              "      <th>776</th>\n",
              "      <th>777</th>\n",
              "      <th>778</th>\n",
              "      <th>779</th>\n",
              "      <th>780</th>\n",
              "      <th>781</th>\n",
              "      <th>782</th>\n",
              "      <th>783</th>\n",
              "      <th>784</th>\n",
              "    </tr>\n",
              "  </thead>\n",
              "  <tbody>\n",
              "    <tr>\n",
              "      <th>0</th>\n",
              "      <td>6</td>\n",
              "      <td>0</td>\n",
              "      <td>0</td>\n",
              "      <td>0</td>\n",
              "      <td>0</td>\n",
              "      <td>0</td>\n",
              "      <td>0</td>\n",
              "      <td>0</td>\n",
              "      <td>0</td>\n",
              "      <td>0</td>\n",
              "      <td>...</td>\n",
              "      <td>0</td>\n",
              "      <td>0</td>\n",
              "      <td>0</td>\n",
              "      <td>0</td>\n",
              "      <td>0</td>\n",
              "      <td>0</td>\n",
              "      <td>0</td>\n",
              "      <td>0</td>\n",
              "      <td>0</td>\n",
              "      <td>0</td>\n",
              "    </tr>\n",
              "    <tr>\n",
              "      <th>1</th>\n",
              "      <td>5</td>\n",
              "      <td>0</td>\n",
              "      <td>0</td>\n",
              "      <td>0</td>\n",
              "      <td>0</td>\n",
              "      <td>0</td>\n",
              "      <td>0</td>\n",
              "      <td>0</td>\n",
              "      <td>0</td>\n",
              "      <td>0</td>\n",
              "      <td>...</td>\n",
              "      <td>0</td>\n",
              "      <td>0</td>\n",
              "      <td>0</td>\n",
              "      <td>0</td>\n",
              "      <td>0</td>\n",
              "      <td>0</td>\n",
              "      <td>0</td>\n",
              "      <td>0</td>\n",
              "      <td>0</td>\n",
              "      <td>0</td>\n",
              "    </tr>\n",
              "    <tr>\n",
              "      <th>2</th>\n",
              "      <td>7</td>\n",
              "      <td>0</td>\n",
              "      <td>0</td>\n",
              "      <td>0</td>\n",
              "      <td>0</td>\n",
              "      <td>0</td>\n",
              "      <td>0</td>\n",
              "      <td>0</td>\n",
              "      <td>0</td>\n",
              "      <td>0</td>\n",
              "      <td>...</td>\n",
              "      <td>0</td>\n",
              "      <td>0</td>\n",
              "      <td>0</td>\n",
              "      <td>0</td>\n",
              "      <td>0</td>\n",
              "      <td>0</td>\n",
              "      <td>0</td>\n",
              "      <td>0</td>\n",
              "      <td>0</td>\n",
              "      <td>0</td>\n",
              "    </tr>\n",
              "    <tr>\n",
              "      <th>3</th>\n",
              "      <td>9</td>\n",
              "      <td>0</td>\n",
              "      <td>0</td>\n",
              "      <td>0</td>\n",
              "      <td>0</td>\n",
              "      <td>0</td>\n",
              "      <td>0</td>\n",
              "      <td>0</td>\n",
              "      <td>0</td>\n",
              "      <td>0</td>\n",
              "      <td>...</td>\n",
              "      <td>0</td>\n",
              "      <td>0</td>\n",
              "      <td>0</td>\n",
              "      <td>0</td>\n",
              "      <td>0</td>\n",
              "      <td>0</td>\n",
              "      <td>0</td>\n",
              "      <td>0</td>\n",
              "      <td>0</td>\n",
              "      <td>0</td>\n",
              "    </tr>\n",
              "    <tr>\n",
              "      <th>4</th>\n",
              "      <td>5</td>\n",
              "      <td>0</td>\n",
              "      <td>0</td>\n",
              "      <td>0</td>\n",
              "      <td>0</td>\n",
              "      <td>0</td>\n",
              "      <td>0</td>\n",
              "      <td>0</td>\n",
              "      <td>0</td>\n",
              "      <td>0</td>\n",
              "      <td>...</td>\n",
              "      <td>0</td>\n",
              "      <td>0</td>\n",
              "      <td>0</td>\n",
              "      <td>0</td>\n",
              "      <td>0</td>\n",
              "      <td>0</td>\n",
              "      <td>0</td>\n",
              "      <td>0</td>\n",
              "      <td>0</td>\n",
              "      <td>0</td>\n",
              "    </tr>\n",
              "  </tbody>\n",
              "</table>\n",
              "<p>5 rows × 785 columns</p>\n",
              "</div>"
            ],
            "text/plain": [
              "   0    1    2    3    4    5    6    7    8    9   ...   775  776  777  778  \\\n",
              "0    6    0    0    0    0    0    0    0    0    0 ...     0    0    0    0   \n",
              "1    5    0    0    0    0    0    0    0    0    0 ...     0    0    0    0   \n",
              "2    7    0    0    0    0    0    0    0    0    0 ...     0    0    0    0   \n",
              "3    9    0    0    0    0    0    0    0    0    0 ...     0    0    0    0   \n",
              "4    5    0    0    0    0    0    0    0    0    0 ...     0    0    0    0   \n",
              "\n",
              "   779  780  781  782  783  784  \n",
              "0    0    0    0    0    0    0  \n",
              "1    0    0    0    0    0    0  \n",
              "2    0    0    0    0    0    0  \n",
              "3    0    0    0    0    0    0  \n",
              "4    0    0    0    0    0    0  \n",
              "\n",
              "[5 rows x 785 columns]"
            ]
          },
          "metadata": {
            "tags": []
          },
          "execution_count": 32
        }
      ]
    },
    {
      "metadata": {
        "id": "5evA0tAuPNgk",
        "colab_type": "code",
        "outputId": "bf1171d3-31a4-4ae1-baa9-6b6fe0bc4230",
        "colab": {
          "base_uri": "https://localhost:8080/",
          "height": 204
        }
      },
      "cell_type": "code",
      "source": [
        "labels=train[0]\n",
        "labels.value_counts()"
      ],
      "execution_count": 33,
      "outputs": [
        {
          "output_type": "execute_result",
          "data": {
            "text/plain": [
              "1    2243\n",
              "7    2126\n",
              "6    2039\n",
              "9    2023\n",
              "3    2021\n",
              "2    1989\n",
              "0    1962\n",
              "4    1924\n",
              "8    1912\n",
              "5    1761\n",
              "Name: 0, dtype: int64"
            ]
          },
          "metadata": {
            "tags": []
          },
          "execution_count": 33
        }
      ]
    },
    {
      "metadata": {
        "id": "TRsiS66JPNjH",
        "colab_type": "code",
        "colab": {}
      },
      "cell_type": "code",
      "source": [
        "train.drop(columns=0,inplace=True)"
      ],
      "execution_count": 0,
      "outputs": []
    },
    {
      "metadata": {
        "id": "j_BV7QQSPNlt",
        "colab_type": "code",
        "outputId": "588f2bd1-959f-4d93-8036-5ba0de364821",
        "colab": {
          "base_uri": "https://localhost:8080/",
          "height": 34
        }
      },
      "cell_type": "code",
      "source": [
        "train.shape"
      ],
      "execution_count": 35,
      "outputs": [
        {
          "output_type": "execute_result",
          "data": {
            "text/plain": [
              "(20000, 784)"
            ]
          },
          "metadata": {
            "tags": []
          },
          "execution_count": 35
        }
      ]
    },
    {
      "metadata": {
        "id": "AAtryv2GPNqE",
        "colab_type": "code",
        "colab": {}
      },
      "cell_type": "code",
      "source": [
        "train=train.values\n",
        "train=train.reshape(train.shape[0],28,28)"
      ],
      "execution_count": 0,
      "outputs": []
    },
    {
      "metadata": {
        "id": "_Pf0LDfmPNs9",
        "colab_type": "code",
        "outputId": "3cd838d3-b7cf-45d0-b6a5-e62eab1c3505",
        "colab": {
          "base_uri": "https://localhost:8080/",
          "height": 34
        }
      },
      "cell_type": "code",
      "source": [
        "train.shape"
      ],
      "execution_count": 37,
      "outputs": [
        {
          "output_type": "execute_result",
          "data": {
            "text/plain": [
              "(20000, 28, 28)"
            ]
          },
          "metadata": {
            "tags": []
          },
          "execution_count": 37
        }
      ]
    },
    {
      "metadata": {
        "id": "_jxNeosFPNvw",
        "colab_type": "code",
        "outputId": "e3601be3-a8c7-4bb7-be82-0d9238fa397a",
        "colab": {
          "base_uri": "https://localhost:8080/",
          "height": 364
        }
      },
      "cell_type": "code",
      "source": [
        "plt.imshow(train[1,:,:],cmap='gray')"
      ],
      "execution_count": 38,
      "outputs": [
        {
          "output_type": "execute_result",
          "data": {
            "text/plain": [
              "<matplotlib.image.AxesImage at 0x7f9e29fbae10>"
            ]
          },
          "metadata": {
            "tags": []
          },
          "execution_count": 38
        },
        {
          "output_type": "display_data",
          "data": {
            "image/png": "[encoded data removed]",
            "text/plain": [
              "<Figure size 576x396 with 1 Axes>"
            ]
          },
          "metadata": {
            "tags": []
          }
        }
      ]
    },
    {
      "metadata": {
        "id": "6xHO26eZpE8E",
        "colab_type": "code",
        "outputId": "36271ce1-ac08-4a00-caf1-5736302b1b71",
        "colab": {
          "base_uri": "https://localhost:8080/",
          "height": 1071
        }
      },
      "cell_type": "code",
      "source": [
        "test[0]"
      ],
      "execution_count": 39,
      "outputs": [
        {
          "output_type": "execute_result",
          "data": {
            "text/plain": [
              "0       7\n",
              "1       2\n",
              "2       1\n",
              "3       0\n",
              "4       4\n",
              "5       1\n",
              "6       4\n",
              "7       9\n",
              "8       5\n",
              "9       9\n",
              "10      0\n",
              "11      6\n",
              "12      9\n",
              "13      0\n",
              "14      1\n",
              "15      5\n",
              "16      9\n",
              "17      7\n",
              "18      3\n",
              "19      4\n",
              "20      9\n",
              "21      6\n",
              "22      6\n",
              "23      5\n",
              "24      4\n",
              "25      0\n",
              "26      7\n",
              "27      4\n",
              "28      0\n",
              "29      1\n",
              "       ..\n",
              "9970    5\n",
              "9971    2\n",
              "9972    4\n",
              "9973    9\n",
              "9974    4\n",
              "9975    3\n",
              "9976    6\n",
              "9977    4\n",
              "9978    1\n",
              "9979    7\n",
              "9980    2\n",
              "9981    6\n",
              "9982    5\n",
              "9983    0\n",
              "9984    1\n",
              "9985    2\n",
              "9986    3\n",
              "9987    4\n",
              "9988    5\n",
              "9989    6\n",
              "9990    7\n",
              "9991    8\n",
              "9992    9\n",
              "9993    0\n",
              "9994    1\n",
              "9995    2\n",
              "9996    3\n",
              "9997    4\n",
              "9998    5\n",
              "9999    6\n",
              "Name: 0, Length: 10000, dtype: int64"
            ]
          },
          "metadata": {
            "tags": []
          },
          "execution_count": 39
        }
      ]
    },
    {
      "metadata": {
        "id": "Rs7_BOz5PNzR",
        "colab_type": "code",
        "colab": {}
      },
      "cell_type": "code",
      "source": [
        "Y_test=test[0]\n",
        "test.drop(columns=0,inplace=True)"
      ],
      "execution_count": 0,
      "outputs": []
    },
    {
      "metadata": {
        "id": "KddHrs9GPNyV",
        "colab_type": "code",
        "outputId": "9edaf41a-1cb0-43d1-ad07-edd08aaab5ce",
        "colab": {
          "base_uri": "https://localhost:8080/",
          "height": 34
        }
      },
      "cell_type": "code",
      "source": [
        "test.shape"
      ],
      "execution_count": 41,
      "outputs": [
        {
          "output_type": "execute_result",
          "data": {
            "text/plain": [
              "(10000, 784)"
            ]
          },
          "metadata": {
            "tags": []
          },
          "execution_count": 41
        }
      ]
    },
    {
      "metadata": {
        "id": "9IZVx76XPNoh",
        "colab_type": "code",
        "colab": {}
      },
      "cell_type": "code",
      "source": [
        "test=test.values\n",
        "test=test.reshape(test.shape[0],28,28)"
      ],
      "execution_count": 0,
      "outputs": []
    },
    {
      "metadata": {
        "id": "SF4Rw_tTPNbA",
        "colab_type": "code",
        "outputId": "aed33333-0423-4699-a024-31f97d77c3b6",
        "colab": {
          "base_uri": "https://localhost:8080/",
          "height": 119
        }
      },
      "cell_type": "code",
      "source": [
        "labels.head()"
      ],
      "execution_count": 43,
      "outputs": [
        {
          "output_type": "execute_result",
          "data": {
            "text/plain": [
              "0    6\n",
              "1    5\n",
              "2    7\n",
              "3    9\n",
              "4    5\n",
              "Name: 0, dtype: int64"
            ]
          },
          "metadata": {
            "tags": []
          },
          "execution_count": 43
        }
      ]
    },
    {
      "metadata": {
        "id": "M0MjombNQBfg",
        "colab_type": "code",
        "colab": {}
      },
      "cell_type": "code",
      "source": [
        "from keras.utils import to_categorical\n",
        "labels_one_hot=to_categorical(labels)"
      ],
      "execution_count": 0,
      "outputs": []
    },
    {
      "metadata": {
        "id": "kvFE1bO0QBiW",
        "colab_type": "code",
        "outputId": "e76acc94-c8b3-487a-d85d-8e3d936b679b",
        "colab": {
          "base_uri": "https://localhost:8080/",
          "height": 34
        }
      },
      "cell_type": "code",
      "source": [
        "test.shape"
      ],
      "execution_count": 45,
      "outputs": [
        {
          "output_type": "execute_result",
          "data": {
            "text/plain": [
              "(10000, 28, 28)"
            ]
          },
          "metadata": {
            "tags": []
          },
          "execution_count": 45
        }
      ]
    },
    {
      "metadata": {
        "id": "hdAFxu2HQBmV",
        "colab_type": "code",
        "colab": {}
      },
      "cell_type": "code",
      "source": [
        "model=Sequential()\n",
        "#model.add(InputLayer((28,28,1)))\n",
        "model.add(Conv2D(filters=16,kernel_size=(5,5),strides=(1,1),activation='relu',padding='valid',input_shape=(28,28,1)))\n",
        "model.add(BatchNormalization(axis=1,momentum=0.99,epsilon=0.001))\n",
        "model.add(MaxPool2D(pool_size=(2,2),strides=(2,2),padding='valid'))\n",
        "model.add(Conv2D(filters=32,kernel_size=(3,3),strides=(1,1),activation='relu',padding='valid'))\n",
        "model.add(BatchNormalization(axis=1,momentum=0.9,epsilon=0.001))\n",
        "model.add(MaxPool2D(pool_size=(2,2),strides=(1,1),padding='valid'))\n",
        "model.add(Conv2D(filters=64,kernel_size=(3,3),strides=(1,1),activation='relu',padding='valid'))\n",
        "model.add(BatchNormalization(axis=1,momentum=0.99,epsilon=0.001))\n",
        "model.add(MaxPool2D(pool_size=(2,2),strides=(2,2),padding='valid'))\n",
        "model.add(Flatten())\n",
        "model.add(Dense(units=128,activation='tanh'))\n",
        "model.add(Dense(units=256,activation='tanh'))\n",
        "model.add(Dense(units=10,activation='softmax'))\n",
        "model.compile(optimizer='adam',loss='categorical_crossentropy',metrics=['acc'])"
      ],
      "execution_count": 0,
      "outputs": []
    },
    {
      "metadata": {
        "id": "eUildOzrQBqD",
        "colab_type": "code",
        "colab": {}
      },
      "cell_type": "code",
      "source": [
        "#my_data_gen=data_gen(train[...,None],labels_one_hot,32)"
      ],
      "execution_count": 0,
      "outputs": []
    },
    {
      "metadata": {
        "id": "He7i1BomQV9y",
        "colab_type": "code",
        "colab": {}
      },
      "cell_type": "code",
      "source": [
        "from keras.utils import Sequence\n",
        "import math\n",
        "class data_gen(Sequence):\n",
        "  def __init__(self,data,labels,batch_size):\n",
        "    self.dataset=data\n",
        "    self.target=labels\n",
        "    self.batch_length=batch_size\n",
        "    self.size=len(data)\n",
        "  def __getitem__(self,i):\n",
        "        start=i*self.batch_length\n",
        "        end=min((i+1)*self.batch_length,self.size)\n",
        "        return self.dataset[start:end],self.target[start:end]\n",
        "  def __len__(self):\n",
        "    return math.ceil(self.size/self.batch_length)"
      ],
      "execution_count": 0,
      "outputs": []
    },
    {
      "metadata": {
        "id": "r0InGfcvQWCd",
        "colab_type": "code",
        "colab": {}
      },
      "cell_type": "code",
      "source": [
        "data=data_gen(train[...,None],labels_one_hot,32)"
      ],
      "execution_count": 0,
      "outputs": []
    },
    {
      "metadata": {
        "id": "13JPvgGdQWGF",
        "colab_type": "code",
        "outputId": "326b37cf-7975-4e86-cd06-84f80ae1ac18",
        "colab": {
          "base_uri": "https://localhost:8080/",
          "height": 5763
        }
      },
      "cell_type": "code",
      "source": [
        "data.__getitem__(3)"
      ],
      "execution_count": 50,
      "outputs": [
        {
          "output_type": "execute_result",
          "data": {
            "text/plain": [
              "(array([[[[0],\n",
              "          [0],\n",
              "          [0],\n",
              "          ...,\n",
              "          [0],\n",
              "          [0],\n",
              "          [0]],\n",
              " \n",
              "         [[0],\n",
              "          [0],\n",
              "          [0],\n",
              "          ...,\n",
              "          [0],\n",
              "          [0],\n",
              "          [0]],\n",
              " \n",
              "         [[0],\n",
              "          [0],\n",
              "          [0],\n",
              "          ...,\n",
              "          [0],\n",
              "          [0],\n",
              "          [0]],\n",
              " \n",
              "         ...,\n",
              " \n",
              "         [[0],\n",
              "          [0],\n",
              "          [0],\n",
              "          ...,\n",
              "          [0],\n",
              "          [0],\n",
              "          [0]],\n",
              " \n",
              "         [[0],\n",
              "          [0],\n",
              "          [0],\n",
              "          ...,\n",
              "          [0],\n",
              "          [0],\n",
              "          [0]],\n",
              " \n",
              "         [[0],\n",
              "          [0],\n",
              "          [0],\n",
              "          ...,\n",
              "          [0],\n",
              "          [0],\n",
              "          [0]]],\n",
              " \n",
              " \n",
              "        [[[0],\n",
              "          [0],\n",
              "          [0],\n",
              "          ...,\n",
              "          [0],\n",
              "          [0],\n",
              "          [0]],\n",
              " \n",
              "         [[0],\n",
              "          [0],\n",
              "          [0],\n",
              "          ...,\n",
              "          [0],\n",
              "          [0],\n",
              "          [0]],\n",
              " \n",
              "         [[0],\n",
              "          [0],\n",
              "          [0],\n",
              "          ...,\n",
              "          [0],\n",
              "          [0],\n",
              "          [0]],\n",
              " \n",
              "         ...,\n",
              " \n",
              "         [[0],\n",
              "          [0],\n",
              "          [0],\n",
              "          ...,\n",
              "          [0],\n",
              "          [0],\n",
              "          [0]],\n",
              " \n",
              "         [[0],\n",
              "          [0],\n",
              "          [0],\n",
              "          ...,\n",
              "          [0],\n",
              "          [0],\n",
              "          [0]],\n",
              " \n",
              "         [[0],\n",
              "          [0],\n",
              "          [0],\n",
              "          ...,\n",
              "          [0],\n",
              "          [0],\n",
              "          [0]]],\n",
              " \n",
              " \n",
              "        [[[0],\n",
              "          [0],\n",
              "          [0],\n",
              "          ...,\n",
              "          [0],\n",
              "          [0],\n",
              "          [0]],\n",
              " \n",
              "         [[0],\n",
              "          [0],\n",
              "          [0],\n",
              "          ...,\n",
              "          [0],\n",
              "          [0],\n",
              "          [0]],\n",
              " \n",
              "         [[0],\n",
              "          [0],\n",
              "          [0],\n",
              "          ...,\n",
              "          [0],\n",
              "          [0],\n",
              "          [0]],\n",
              " \n",
              "         ...,\n",
              " \n",
              "         [[0],\n",
              "          [0],\n",
              "          [0],\n",
              "          ...,\n",
              "          [0],\n",
              "          [0],\n",
              "          [0]],\n",
              " \n",
              "         [[0],\n",
              "          [0],\n",
              "          [0],\n",
              "          ...,\n",
              "          [0],\n",
              "          [0],\n",
              "          [0]],\n",
              " \n",
              "         [[0],\n",
              "          [0],\n",
              "          [0],\n",
              "          ...,\n",
              "          [0],\n",
              "          [0],\n",
              "          [0]]],\n",
              " \n",
              " \n",
              "        ...,\n",
              " \n",
              " \n",
              "        [[[0],\n",
              "          [0],\n",
              "          [0],\n",
              "          ...,\n",
              "          [0],\n",
              "          [0],\n",
              "          [0]],\n",
              " \n",
              "         [[0],\n",
              "          [0],\n",
              "          [0],\n",
              "          ...,\n",
              "          [0],\n",
              "          [0],\n",
              "          [0]],\n",
              " \n",
              "         [[0],\n",
              "          [0],\n",
              "          [0],\n",
              "          ...,\n",
              "          [0],\n",
              "          [0],\n",
              "          [0]],\n",
              " \n",
              "         ...,\n",
              " \n",
              "         [[0],\n",
              "          [0],\n",
              "          [0],\n",
              "          ...,\n",
              "          [0],\n",
              "          [0],\n",
              "          [0]],\n",
              " \n",
              "         [[0],\n",
              "          [0],\n",
              "          [0],\n",
              "          ...,\n",
              "          [0],\n",
              "          [0],\n",
              "          [0]],\n",
              " \n",
              "         [[0],\n",
              "          [0],\n",
              "          [0],\n",
              "          ...,\n",
              "          [0],\n",
              "          [0],\n",
              "          [0]]],\n",
              " \n",
              " \n",
              "        [[[0],\n",
              "          [0],\n",
              "          [0],\n",
              "          ...,\n",
              "          [0],\n",
              "          [0],\n",
              "          [0]],\n",
              " \n",
              "         [[0],\n",
              "          [0],\n",
              "          [0],\n",
              "          ...,\n",
              "          [0],\n",
              "          [0],\n",
              "          [0]],\n",
              " \n",
              "         [[0],\n",
              "          [0],\n",
              "          [0],\n",
              "          ...,\n",
              "          [0],\n",
              "          [0],\n",
              "          [0]],\n",
              " \n",
              "         ...,\n",
              " \n",
              "         [[0],\n",
              "          [0],\n",
              "          [0],\n",
              "          ...,\n",
              "          [0],\n",
              "          [0],\n",
              "          [0]],\n",
              " \n",
              "         [[0],\n",
              "          [0],\n",
              "          [0],\n",
              "          ...,\n",
              "          [0],\n",
              "          [0],\n",
              "          [0]],\n",
              " \n",
              "         [[0],\n",
              "          [0],\n",
              "          [0],\n",
              "          ...,\n",
              "          [0],\n",
              "          [0],\n",
              "          [0]]],\n",
              " \n",
              " \n",
              "        [[[0],\n",
              "          [0],\n",
              "          [0],\n",
              "          ...,\n",
              "          [0],\n",
              "          [0],\n",
              "          [0]],\n",
              " \n",
              "         [[0],\n",
              "          [0],\n",
              "          [0],\n",
              "          ...,\n",
              "          [0],\n",
              "          [0],\n",
              "          [0]],\n",
              " \n",
              "         [[0],\n",
              "          [0],\n",
              "          [0],\n",
              "          ...,\n",
              "          [0],\n",
              "          [0],\n",
              "          [0]],\n",
              " \n",
              "         ...,\n",
              " \n",
              "         [[0],\n",
              "          [0],\n",
              "          [0],\n",
              "          ...,\n",
              "          [0],\n",
              "          [0],\n",
              "          [0]],\n",
              " \n",
              "         [[0],\n",
              "          [0],\n",
              "          [0],\n",
              "          ...,\n",
              "          [0],\n",
              "          [0],\n",
              "          [0]],\n",
              " \n",
              "         [[0],\n",
              "          [0],\n",
              "          [0],\n",
              "          ...,\n",
              "          [0],\n",
              "          [0],\n",
              "          [0]]]]), array([[0., 0., 0., 1., 0., 0., 0., 0., 0., 0.],\n",
              "        [0., 0., 1., 0., 0., 0., 0., 0., 0., 0.],\n",
              "        [0., 0., 0., 1., 0., 0., 0., 0., 0., 0.],\n",
              "        [0., 0., 1., 0., 0., 0., 0., 0., 0., 0.],\n",
              "        [0., 0., 0., 0., 0., 0., 0., 1., 0., 0.],\n",
              "        [0., 0., 0., 0., 0., 0., 1., 0., 0., 0.],\n",
              "        [0., 0., 1., 0., 0., 0., 0., 0., 0., 0.],\n",
              "        [0., 0., 0., 0., 0., 0., 0., 1., 0., 0.],\n",
              "        [0., 1., 0., 0., 0., 0., 0., 0., 0., 0.],\n",
              "        [0., 0., 0., 0., 0., 0., 1., 0., 0., 0.],\n",
              "        [0., 0., 1., 0., 0., 0., 0., 0., 0., 0.],\n",
              "        [1., 0., 0., 0., 0., 0., 0., 0., 0., 0.],\n",
              "        [0., 0., 0., 0., 0., 0., 0., 1., 0., 0.],\n",
              "        [1., 0., 0., 0., 0., 0., 0., 0., 0., 0.],\n",
              "        [0., 0., 1., 0., 0., 0., 0., 0., 0., 0.],\n",
              "        [0., 0., 1., 0., 0., 0., 0., 0., 0., 0.],\n",
              "        [1., 0., 0., 0., 0., 0., 0., 0., 0., 0.],\n",
              "        [0., 0., 0., 0., 0., 0., 1., 0., 0., 0.],\n",
              "        [0., 0., 0., 0., 0., 0., 0., 1., 0., 0.],\n",
              "        [0., 0., 0., 0., 0., 0., 0., 1., 0., 0.],\n",
              "        [0., 0., 0., 0., 0., 0., 0., 1., 0., 0.],\n",
              "        [0., 0., 1., 0., 0., 0., 0., 0., 0., 0.],\n",
              "        [0., 0., 0., 1., 0., 0., 0., 0., 0., 0.],\n",
              "        [0., 0., 0., 0., 0., 0., 0., 1., 0., 0.],\n",
              "        [0., 0., 0., 1., 0., 0., 0., 0., 0., 0.],\n",
              "        [0., 1., 0., 0., 0., 0., 0., 0., 0., 0.],\n",
              "        [0., 0., 0., 0., 0., 0., 0., 0., 0., 1.],\n",
              "        [0., 0., 0., 1., 0., 0., 0., 0., 0., 0.],\n",
              "        [0., 0., 0., 0., 0., 0., 0., 1., 0., 0.],\n",
              "        [0., 0., 0., 0., 0., 1., 0., 0., 0., 0.],\n",
              "        [1., 0., 0., 0., 0., 0., 0., 0., 0., 0.],\n",
              "        [0., 0., 0., 0., 0., 0., 1., 0., 0., 0.]], dtype=float32))"
            ]
          },
          "metadata": {
            "tags": []
          },
          "execution_count": 50
        }
      ]
    },
    {
      "metadata": {
        "id": "a-6hyL78QWI3",
        "colab_type": "code",
        "colab": {}
      },
      "cell_type": "code",
      "source": [
        "traingen=data_gen(train[:18000,:,:,None],labels_one_hot[:18000,:],200)"
      ],
      "execution_count": 0,
      "outputs": []
    },
    {
      "metadata": {
        "id": "7Apk6iHKtFUk",
        "colab_type": "code",
        "colab": {}
      },
      "cell_type": "code",
      "source": [
        "valgen=data_gen(train[18001:,:,:,None],labels_one_hot[18001:,:],200)"
      ],
      "execution_count": 0,
      "outputs": []
    },
    {
      "metadata": {
        "id": "BZqtfFUuq04t",
        "colab_type": "code",
        "outputId": "131f8268-20ed-42f0-dcd1-62864b0af3f1",
        "colab": {
          "base_uri": "https://localhost:8080/",
          "height": 34
        }
      },
      "cell_type": "code",
      "source": [
        "train[...,None].shape"
      ],
      "execution_count": 53,
      "outputs": [
        {
          "output_type": "execute_result",
          "data": {
            "text/plain": [
              "(20000, 28, 28, 1)"
            ]
          },
          "metadata": {
            "tags": []
          },
          "execution_count": 53
        }
      ]
    },
    {
      "metadata": {
        "id": "9wjgBcDVQWLX",
        "colab_type": "code",
        "outputId": "9dff9f6e-2957-4554-9c4f-bdc9f7332d62",
        "colab": {
          "base_uri": "https://localhost:8080/",
          "height": 187
        }
      },
      "cell_type": "code",
      "source": [
        "history=model.fit_generator(\n",
        "   traingen,\n",
        "    epochs=5,\n",
        "    validation_data=valgen,\n",
        "    callbacks=[\n",
        "                      keras.callbacks.ModelCheckpoint(\n",
        "                      'model_mnst.h5',\n",
        "                      monitor='val_loss',\n",
        "                      verbose=0,\n",
        "                      save_best_only=True,\n",
        "                      save_weights_only=True,\n",
        "                      mode='auto',\n",
        "                      period=0\n",
        "                      )\n",
        "                  ]\n",
        ")\n"
      ],
      "execution_count": 54,
      "outputs": [
        {
          "output_type": "stream",
          "text": [
            "Epoch 1/5\n",
            "90/90 [==============================] - 23s 258ms/step - loss: 0.3644 - acc: 0.8962 - val_loss: 0.1245 - val_acc: 0.9575\n",
            "Epoch 2/5\n",
            "90/90 [==============================] - 22s 242ms/step - loss: 0.0745 - acc: 0.9773 - val_loss: 0.0909 - val_acc: 0.9680\n",
            "Epoch 3/5\n",
            "90/90 [==============================] - 22s 244ms/step - loss: 0.0440 - acc: 0.9868 - val_loss: 0.0764 - val_acc: 0.9775\n",
            "Epoch 4/5\n",
            "90/90 [==============================] - 22s 244ms/step - loss: 0.0265 - acc: 0.9925 - val_loss: 0.0700 - val_acc: 0.9750\n",
            "Epoch 5/5\n",
            "90/90 [==============================] - 22s 242ms/step - loss: 0.0165 - acc: 0.9959 - val_loss: 0.0701 - val_acc: 0.9815\n"
          ],
          "name": "stdout"
        }
      ]
    },
    {
      "metadata": {
        "id": "7BM1JbevuzCu",
        "colab_type": "code",
        "outputId": "59632ddb-e4d6-4d52-d075-3e9a2e53e152",
        "colab": {
          "base_uri": "https://localhost:8080/",
          "height": 357
        }
      },
      "cell_type": "code",
      "source": [
        "history.history"
      ],
      "execution_count": 55,
      "outputs": [
        {
          "output_type": "execute_result",
          "data": {
            "text/plain": [
              "{'acc': [0.8962222211062908,\n",
              "  0.9773333423667484,\n",
              "  0.9868333452277713,\n",
              "  0.9925000064902836,\n",
              "  0.99588889280955],\n",
              " 'loss': [0.3643742749260532,\n",
              "  0.07453349332014719,\n",
              "  0.044004266139947706,\n",
              "  0.026523595339515142,\n",
              "  0.016472701291139754],\n",
              " 'val_acc': [0.9574787408903637,\n",
              "  0.9679839977507236,\n",
              "  0.9774887552852927,\n",
              "  0.9749875093412852,\n",
              "  0.9814907519921117],\n",
              " 'val_loss': [0.12449425862931561,\n",
              "  0.09091280625127685,\n",
              "  0.07642309154836222,\n",
              "  0.06995289113601784,\n",
              "  0.07010639429822929]}"
            ]
          },
          "metadata": {
            "tags": []
          },
          "execution_count": 55
        }
      ]
    },
    {
      "metadata": {
        "id": "NZx55wKDQWOH",
        "colab_type": "code",
        "outputId": "9517e4fd-7b66-45a9-d177-8c8bb3ed8dd6",
        "colab": {
          "base_uri": "https://localhost:8080/",
          "height": 34
        }
      },
      "cell_type": "code",
      "source": [
        "y_pred=model.predict(test[...,None])\n",
        "Y_pred=np.argmax(y_pred,axis=1)\n",
        "np.mean((Y_pred==Y_test))"
      ],
      "execution_count": 56,
      "outputs": [
        {
          "output_type": "execute_result",
          "data": {
            "text/plain": [
              "0.9855"
            ]
          },
          "metadata": {
            "tags": []
          },
          "execution_count": 56
        }
      ]
    },
    {
      "metadata": {
        "id": "zNZARgEGy8tI",
        "colab_type": "code",
        "colab": {}
      },
      "cell_type": "code",
      "source": [
        ""
      ],
      "execution_count": 0,
      "outputs": []
    }
  ]
}